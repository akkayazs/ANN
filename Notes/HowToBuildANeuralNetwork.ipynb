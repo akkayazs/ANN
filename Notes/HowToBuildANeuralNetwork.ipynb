{
 "cells": [
  {
   "cell_type": "markdown",
   "id": "fa909ec0-93b3-432f-b6c3-f8c7fb1b4bf0",
   "metadata": {},
   "source": [
    "My notes about [this article](https://realpython.com/python-ai-neural-network/)\n",
    "\n",
    "# Neural Networks\n",
    "\n",
    "Vectors, layers, linear regression\n",
    "\n",
    "The data is stored as *vectors*, and with Python you store these vectors in *arrays*. \n",
    "\n",
    "trial and error\n",
    "\n",
    "With neural networks, you start with some *random weights and bias vectors*, make a prediction, compare it to the desired output, and adjust the vectors to predict more accurately the next time.\n",
    "\n",
    "The *dot product* of two vectors tells you how similar they are in terms of direction and is scaled by the magnitude of the two vectors.\n",
    "\n",
    "*Regression* is used when you need to estimate the relationship between a dependent variable and two or more independent variables.\n",
    "\n",
    "By modeling the relationship between the variables as *linear*, you can express the dependent variable as a *weighted sum* of the independent variables. So, each independent variable will be multiplied by a vector called *weight*. Besides the weights and the independent variables, you also add another vector: the *bias*. It sets the result when all the other independent variables are equal to zero.\n",
    "\n",
    "As a real-world example:\n",
    "price = (weights_area * area) + (weights_age * age) + bias"
   ]
  },
  {
   "cell_type": "code",
   "execution_count": 3,
   "id": "d8ebd040-4495-4024-9915-0959d851b8d0",
   "metadata": {},
   "outputs": [
    {
     "name": "stdout",
     "output_type": "stream",
     "text": [
      "Figure(640x480)\n",
      "Axes(0.125,0.11;0.775x0.77)\n"
     ]
    },
    {
     "data": {
      "image/png": "[encoded data removed]",
      "text/plain": [
       "<Figure size 640x480 with 1 Axes>"
      ]
     },
     "metadata": {},
     "output_type": "display_data"
    }
   ],
   "source": [
    "import matplotlib.pyplot as plt\n",
    "\n",
    "input_vector = [1.72, 1.23]\n",
    "weights_1 = [1.26, 0]\n",
    "weights_2 = [2.17, 0.32]\n",
    "\n",
    "fig, ax = plt.subplots()\n",
    "print(fig) # Figure(640x480)\n",
    "print(ax) # Axes(0.125,0.11;0.775x0.77)\n",
    "\n",
    "ax.quiver(0, 0, input_vector[0], input_vector[1], angles='xy', scale_units='xy', scale=1, color='r', label='Input Vector')\n",
    "ax.quiver(0, 0, weights_1[0], weights_1[1], angles='xy', scale_units='xy', scale=1, color='g', label='Weights 1')\n",
    "ax.quiver(0, 0, weights_2[0], weights_2[1], angles='xy', scale_units='xy', scale=1, color='b', label='Weights 2')\n",
    "\"\"\"\n",
    "Plot a 2D field of arrows.\n",
    "quiver([X, Y], U, V, [C], **kwargs)\n",
    "X, Y define the arrow locations, U, V define the arrow directions, C optionally sets the color.\n",
    "angles: {'uv', 'xy'} or array-like, default: 'uv'\n",
    "scale_units: {'width', 'height', 'dots', 'inches', 'x', 'y', 'xy'}, optional\n",
    "scale: float, optional\n",
    "units: {'width', 'height', 'dots', 'inches', 'x', 'y', 'xy'}, default: 'width'\n",
    "\"\"\"\n",
    "\n",
    "ax.set_xlim(-0.5, 3)\n",
    "ax.set_ylim(-0.5, 2)\n",
    "# left, right\n",
    "\n",
    "ax.grid(True)\n",
    "plt.xlabel('X-axis')\n",
    "plt.ylabel('Y-axis')\n",
    "plt.title('Vectors Plot')\n",
    "plt.legend()\n",
    "\n",
    "plt.show()"
   ]
  },
  {
   "cell_type": "code",
   "execution_count": 4,
   "id": "f2407a77-e343-40a4-96e8-af9a979ff9d8",
   "metadata": {},
   "outputs": [
    {
     "name": "stdout",
     "output_type": "stream",
     "text": [
      "The dot product of input and weights 1: 2.1672\n"
     ]
    }
   ],
   "source": [
    "input_vector = [1.72, 1.23]\n",
    "weights_1 = [1.26, 0]\n",
    "weights_2 = [2.17, 0.32]\n",
    "\n",
    "print(f\"The dot product of input and weights 1: {input_vector[0] * weights_1[0] + input_vector[1] * weights_1[1]}\")"
   ]
  },
  {
   "cell_type": "code",
   "execution_count": 5,
   "id": "f848bf19-a8ef-4ad6-a47a-129f9b92c566",
   "metadata": {},
   "outputs": [
    {
     "name": "stdout",
     "output_type": "stream",
     "text": [
      "The dot product  of input and weights 1: 2.1672\n",
      "The dot product  of input and weights 2: 4.1259999999999994\n"
     ]
    }
   ],
   "source": [
    "import numpy as np\n",
    "\n",
    "print(f\"The dot product  of input and weights 1: {np.dot(input_vector, weights_1)}\")\n",
    "print(f\"The dot product  of input and weights 2: {np.dot(input_vector, weights_2)}\")"
   ]
  },
  {
   "cell_type": "markdown",
   "id": "3a89849e-f047-4e14-bd1a-90829ecf32eb",
   "metadata": {},
   "source": [
    "### input_vector is more similar to weights_2"
   ]
  },
  {
   "attachments": {},
   "cell_type": "markdown",
   "id": "539c84dd-0244-47d9-b5d7-cba96e39bf18",
   "metadata": {},
   "source": [
    "In next tutorial, you’ll train a model to make predictions that have only two possible outcomes. The output result can be either 0 or 1. This is a classification problem, a subset of supervised learning problems in which you have a dataset with the inputs and the known targets.\n",
    "\n",
    "nonlinear functions = activation functions\n",
    "\n",
    "sigmoid activation function = Sigmoid f. limits the output to a range between 0 and 1.\n",
    "\n",
    "<img src=\"https://realpython.com/cdn-cgi/image/width=1157,format=auto/https://files.realpython.com/media/sigmoid_function.f966c820f8c3.png\" width=\"200\">\n",
    "\n",
    "The e is a mathematical constant called Euler’s number\n",
    "np.exp(x) = eˣ\n",
    "\n",
    "Since the function limits the output to a range of 0 to 1, you’ll use it to predict probabilities. If the output is greater than 0.5, then you’ll say the prediction is 1. If it’s below 0.5, then you’ll say the prediction is 0."
   ]
  },
  {
   "cell_type": "code",
   "execution_count": 8,
   "id": "e842268a-72d1-449d-9042-85d6252a0662",
   "metadata": {},
   "outputs": [
    {
     "name": "stdout",
     "output_type": "stream",
     "text": [
      "The prediction result is: [0.7985731]\n"
     ]
    }
   ],
   "source": [
    "input_vector = np.array([1.66, 1.56])\n",
    "weights_1 = np.array([1.45, -0.66])\n",
    "bias = np.array([0.0])\n",
    "\n",
    "def sigmoid(x):\n",
    "    return 1 / (1 + np.exp(-x))\n",
    "\n",
    "def make_prediction(input_vector, weights, bias):\n",
    "     layer_1 = np.dot(input_vector, weights) + bias\n",
    "     layer_2 = sigmoid(layer_1)\n",
    "     return layer_2\n",
    "\n",
    "prediction = make_prediction(input_vector, weights_1, bias)\n",
    "\n",
    "print(f\"The prediction result is: {prediction}\")"
   ]
  },
  {
   "cell_type": "markdown",
   "id": "52091327-8267-4f23-ab01-b9fe7098b3dd",
   "metadata": {},
   "source": [
    "The raw prediction result is 0.79, which is higher than 0.5, so the output is 1. The network made a correct prediction."
   ]
  },
  {
   "cell_type": "code",
   "execution_count": 10,
   "id": "f06666c6-c00b-4ef5-9296-9e7357f0f227",
   "metadata": {},
   "outputs": [
    {
     "name": "stdout",
     "output_type": "stream",
     "text": [
      "The prediction result is: [0.87101915]\n"
     ]
    }
   ],
   "source": [
    "input_vector = np.array([2, 1.5])\n",
    "\n",
    "prediction = make_prediction(input_vector, weights_1, bias)\n",
    "\n",
    "print(f\"The prediction result is: {prediction}\")"
   ]
  },
  {
   "cell_type": "markdown",
   "id": "440e5f55-25fc-4a27-b272-a0be393990b5",
   "metadata": {},
   "source": [
    "The correct result for this input is 0. This time, the network made a wrong prediction.\n",
    "\n",
    "You first assess the error and then adjust the weights accordingly. To adjust the weights, you’ll use the *gradient descent and backpropagation algorithms*. Gradient descent is applied to find the direction and the rate to update the parameters.\n",
    "\n",
    "The function used to measure the error is called the *cost function, or loss function*. You’ll use the *mean squared error (MSE)* as your cost function. Compute the difference between the prediction and the target. Multiply the result by itself."
   ]
  },
  {
   "cell_type": "code",
   "execution_count": 12,
   "id": "c365f534-c4b2-4187-bd64-a7ea823008e7",
   "metadata": {},
   "outputs": [
    {
     "name": "stdout",
     "output_type": "stream",
     "text": [
      "Prediction: [0.87101915]; Error: [0.75867436]\n"
     ]
    }
   ],
   "source": [
    "target = 0\n",
    "\n",
    "mse = np.square(prediction - target)\n",
    "\n",
    "print(f\"Prediction: {prediction}; Error: {mse}\")"
   ]
  },
  {
   "cell_type": "markdown",
   "id": "752d2553-22a1-43d3-8f98-0cb0d63703a2",
   "metadata": {},
   "source": [
    "The goal is to change the weights and bias variables so you can reduce the error. To understand how this works, you’ll change only the weights variable and leave the bias fixed for now.\n",
    "\n",
    "You compute the MSE by doing error = np.square(prediction - target). If you treat (prediction - target) as a single variable x, then you have error = np.square(x), which is a quadratic function.\n",
    "\n",
    "<img src=\"https://realpython.com/cdn-cgi/image/width=1157,format=auto/https://files.realpython.com/media/quatratic_function.002729dea332.png\" width=\"400\">\n",
    "\n",
    "To know which direction you should go to reduce the error, you’ll use the *derivative*. \n",
    "\n",
    "Another word for the derivative is *gradient*. *Gradient descent* is the name of the algorithm used to find the direction and the rate to update the network parameters.\n",
    "\n",
    "The derivative of np.square(x) is 2 * x"
   ]
  },
  {
   "cell_type": "code",
   "execution_count": 14,
   "id": "c551b821-4f65-4231-ab81-c8d186a27f41",
   "metadata": {},
   "outputs": [
    {
     "name": "stdout",
     "output_type": "stream",
     "text": [
      "The derivative is [1.7420383]\n"
     ]
    }
   ],
   "source": [
    "derivative = 2 * (prediction - target)\n",
    "\n",
    "print(f\"The derivative is {derivative}\")"
   ]
  },
  {
   "cell_type": "markdown",
   "id": "b6cef2e4-d2ef-49c7-a015-5e7e7f7ea661",
   "metadata": {},
   "source": [
    "The result is 1.74, a positive number, so you need to decrease the weights."
   ]
  },
  {
   "cell_type": "code",
   "execution_count": 16,
   "id": "d712f5e2-9b02-4852-ad56-2ea000324b01",
   "metadata": {},
   "outputs": [
    {
     "name": "stdout",
     "output_type": "stream",
     "text": [
      "Prediction: [0.01496248]; Error: [0.00022388]\n"
     ]
    }
   ],
   "source": [
    "weights_1 = weights_1 - derivative\n",
    "\n",
    "prediction = make_prediction(input_vector, weights_1, bias)\n",
    "\n",
    "error = (prediction - target) ** 2\n",
    "\n",
    "print(f\"Prediction: {prediction}; Error: {error}\")"
   ]
  },
  {
   "cell_type": "markdown",
   "id": "01fe6556-eb8f-4fb5-9ada-158c444431ce",
   "metadata": {},
   "source": [
    "To define a fraction for updating the weights, you use the *alpha* parameter, also called the *learning rate*. If you decrease the learning rate, then the increments are smaller. If you increase it, then the steps are higher.\n",
    "\n",
    "Traditional default learning rate values are *0.1, 0.01, and 0.001*.\n",
    "\n",
    "### Applying the Chain Rule\n",
    "\n",
    "With the chain rule, you take the partial derivatives of each function, evaluate them, and multiply all the partial derivatives to get the derivative you want.\n",
    "\n",
    "You can start updating the weights. You want to know how to change the weights to decrease the error. You need to compute the derivative of the error with respect to weights. Since the error is computed by combining different functions, you need to take the partial derivatives of these functions.\n",
    "\n",
    "<img src=\"https://realpython.com/cdn-cgi/image/width=1500,format=auto/https://files.realpython.com/media/partial_derivative_weights_2.c792633559c3.png\" width=\"400\">\n",
    "\n",
    "derror_dweights = (\n",
    "    derror_dprediction * dprediction_dlayer1 * dlayer1_dweights\n",
    ")\n",
    "\n",
    "To calculate the derivative, you multiply all the partial derivatives that follow the path. This reverse path is called a backward pass. This algorithm to update the neural network parameters is called backpropagation.\n",
    "\n",
    "### Backpropagation\n",
    "\n",
    "You want to take the derivative of the error function with respect to the bias, derror_dbias. Then you’ll keep going backward, taking the partial derivatives until you find the bias variable.\n",
    "\n",
    "You first need to take the partial derivative of the error with respect to the prediction. That’s the derror_dprediction.\n",
    "\n",
    "Then take the derivative of the prediction with respect to the previous layer, dprediction_dlayer1. The prediction is the result of the sigmoid function. You can take the derivative of the sigmoid function by multiplying sigmoid(x) and 1 - sigmoid(x). You then take this partial derivative and continue going backward.\n",
    "\n",
    "Now you’ll take the derivative of layer_1 with respect to the bias. The bias variable is an independent variable, so the result after applying the power rule is 1.\n",
    "\n",
    "<img src=\"https://realpython.com/cdn-cgi/image/width=1500,format=auto/https://files.realpython.com/media/partial_derivative_bias_2.177c16a60b9d.png\" width=\"400\">"
   ]
  },
  {
   "cell_type": "code",
   "execution_count": 18,
   "id": "82ba7001-545f-427d-8d18-76a252b03356",
   "metadata": {},
   "outputs": [],
   "source": [
    "def sigmoid_deriv(x):\n",
    "    return sigmoid(x) * (1-sigmoid(x))\n",
    "\n",
    "derror_dprediction = 2 * (prediction - target)\n",
    "layer_1 = np.dot(input_vector, weights_1) + bias\n",
    "dprediction_dlayer1 = sigmoid_deriv(layer_1)\n",
    "dlayer1_dbias = 1\n",
    "\n",
    "derror_dbias = (\n",
    "    derror_dprediction * dprediction_dlayer1 * dlayer1_dbias\n",
    ")"
   ]
  },
  {
   "cell_type": "markdown",
   "id": "d6d0aef2-2c70-4732-82fa-1f0e9cdd1628",
   "metadata": {},
   "source": [
    "## Neural Network Class"
   ]
  },
  {
   "cell_type": "code",
   "execution_count": 20,
   "id": "66936f61-59d0-47f1-9665-416294eb456b",
   "metadata": {},
   "outputs": [],
   "source": [
    "class NeuralNetwork:\n",
    "    def __init__(self, learning_rate):\n",
    "        self.weights = np.array([np.random.randn(), np.random.randn()])\n",
    "        self.bias = np.random.randn()\n",
    "        self.learning_rate = learning_rate\n",
    "\n",
    "    def _sigmoid(self, x):\n",
    "        return 1 / (1 + np.exp(-x))\n",
    "\n",
    "    def _sigmoid_deriv(self, x):\n",
    "        return self._sigmoid(x) * (1 - self._sigmoid(x))\n",
    "\n",
    "    def predict(self, input_vector):\n",
    "        layer_1 = np.dot(input_vector, self.weights) + self.bias\n",
    "        layer_2 = self._sigmoid(layer_1)\n",
    "        prediction = layer_2\n",
    "        return prediction\n",
    "\n",
    "    def _compute_gradients(self, input_vector, target):\n",
    "        layer_1 = np.dot(input_vector, self.weights) + self.bias\n",
    "        layer_2 = self._sigmoid(layer_1)\n",
    "        prediction = layer_2\n",
    "\n",
    "        derror_dprediction = 2 * (prediction - target)\n",
    "        dprediction_dlayer1 = self._sigmoid_deriv(layer_1)\n",
    "        dlayer1_dbias = 1\n",
    "        dlayer1_dweights = (0 * self.weights) + (1 * input_vector)\n",
    "\n",
    "        derror_dbias = (\n",
    "            derror_dprediction * dprediction_dlayer1 * dlayer1_dbias\n",
    "        )\n",
    "        derror_dweights = (\n",
    "            derror_dprediction * dprediction_dlayer1 * dlayer1_dweights\n",
    "        )\n",
    "\n",
    "        return derror_dbias, derror_dweights\n",
    "\n",
    "    def _update_parameters(self, derror_dbias, derror_dweights):\n",
    "        self.bias = self.bias - (derror_dbias * self.learning_rate)\n",
    "        self.weights = self.weights - (\n",
    "            derror_dweights * self.learning_rate\n",
    "        )\n",
    "\n",
    "    def train(self, input_vectors, targets, iterations):\n",
    "        cumulative_errors = []\n",
    "        for current_iteration in range(iterations):\n",
    "            # Pick a data instance at random\n",
    "            random_data_index = np.random.randint(len(input_vectors))\n",
    "\n",
    "            input_vector = input_vectors[random_data_index]\n",
    "            target = targets[random_data_index]\n",
    "\n",
    "            # Compute the gradients and update the weights\n",
    "            # Calculate the partial derivatives and return the derivatives for the bias and the weights.\n",
    "            derror_dbias, derror_dweights = self._compute_gradients(\n",
    "                input_vector, target\n",
    "            )\n",
    "\n",
    "            self._update_parameters(derror_dbias, derror_dweights)\n",
    "\n",
    "            # Measure the cumulative error for all the instances\n",
    "            # To observe how the error changes every 100 iterations.\n",
    "            if current_iteration % 100 == 0:\n",
    "                cumulative_error = 0\n",
    "                # Loop through all the instances to measure the error\n",
    "                for data_instance_index in range(len(input_vectors)):\n",
    "                    data_point = input_vectors[data_instance_index]\n",
    "                    target = targets[data_instance_index]\n",
    "\n",
    "                    prediction = self.predict(data_point)\n",
    "                    error = np.square(prediction - target)\n",
    "\n",
    "                    cumulative_error = cumulative_error + error\n",
    "                cumulative_errors.append(cumulative_error)\n",
    "\n",
    "        return cumulative_errors"
   ]
  },
  {
   "cell_type": "code",
   "execution_count": 21,
   "id": "4cbed399-1ae6-4ba2-8277-d36522e57ea5",
   "metadata": {},
   "outputs": [
    {
     "data": {
      "text/plain": [
       "0.14986205302168637"
      ]
     },
     "execution_count": 21,
     "metadata": {},
     "output_type": "execute_result"
    }
   ],
   "source": [
    "# If you want to make a prediction\n",
    "\n",
    "learning_rate = 0.1\n",
    "\n",
    "neural_network = NeuralNetwork(learning_rate)\n",
    "\n",
    "neural_network.predict(input_vector)"
   ]
  },
  {
   "cell_type": "markdown",
   "id": "fe6cabaa-ad5c-494d-8bf6-9ab246e58e59",
   "metadata": {},
   "source": [
    "### Training the Network\n",
    "\n",
    "Stochastic gradient descent is a technique in which, at every iteration, the model makes a prediction based on a randomly selected piece of training data, calculates the error, and updates the parameters."
   ]
  },
  {
   "cell_type": "code",
   "execution_count": 23,
   "id": "80e2dec0-2564-4df6-a045-b2ce2ddb0de9",
   "metadata": {},
   "outputs": [
    {
     "data": {
      "image/png": "[encoded data removed]",
      "text/plain": [
       "<Figure size 640x480 with 1 Axes>"
      ]
     },
     "metadata": {},
     "output_type": "display_data"
    }
   ],
   "source": [
    "import matplotlib.pyplot as plt\n",
    "\n",
    "input_vectors = np.array(\n",
    "    [\n",
    "        [3, 1.5],\n",
    "        [2, 1],\n",
    "        [4, 1.5],\n",
    "        [3, 4],\n",
    "        [3.5, 0.5],\n",
    "        [2, 0.5],\n",
    "        [5.5, 1],\n",
    "        [1, 1],\n",
    "    ]\n",
    ")\n",
    "\n",
    "targets = np.array([0, 1, 0, 1, 0, 1, 1, 0])\n",
    "\n",
    "learning_rate = 0.1\n",
    "\n",
    "neural_network = NeuralNetwork(learning_rate)\n",
    "\n",
    "training_error = neural_network.train(input_vectors, targets, 10000)\n",
    "\n",
    "plt.plot(training_error)\n",
    "plt.xlabel(\"Iterations\")\n",
    "plt.ylabel(\"Error for all training instances\")\n",
    "plt.show()"
   ]
  }
 ],
 "metadata": {
  "kernelspec": {
   "display_name": "Python 3 (ipykernel)",
   "language": "python",
   "name": "python3"
  },
  "language_info": {
   "codemirror_mode": {
    "name": "ipython",
    "version": 3
   },
   "file_extension": ".py",
   "mimetype": "text/x-python",
   "name": "python",
   "nbconvert_exporter": "python",
   "pygments_lexer": "ipython3",
   "version": "3.12.4"
  }
 },
 "nbformat": 4,
 "nbformat_minor": 5
}
